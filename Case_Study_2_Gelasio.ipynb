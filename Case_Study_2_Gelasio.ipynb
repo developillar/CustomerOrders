{
 "cells": [
  {
   "cell_type": "markdown",
   "id": "optimum-ridge",
   "metadata": {},
   "source": [
    "# Case Study #2\n",
    "here is 1 dataset(csv) with 3 years worth of customer orders. There are 4 columns in the csv dataset: index, CUSTOMER_EMAIL(unique identifier as hash), Net_Revenue, and Year.\n",
    "For each year we need the following information:\n",
    "Total revenue for the current year\n",
    "New Customer Revenue e.g. new customers not present in previous year only\n",
    "Existing Customer Growth, Revenue of existing customers for current year – Revenue of existing customers from existing year\n",
    "Revenue lost from attrition\n",
    "Existing Customer Revenue Current Year\n",
    "Existing Customer Revenue Prior Year\n",
    "Total Customers Current Year\n",
    "Total Customers Previous Year\n",
    "New Customers\n",
    "Lost Customers\n"
   ]
  },
  {
   "cell_type": "code",
   "execution_count": 1,
   "id": "absent-tonight",
   "metadata": {},
   "outputs": [],
   "source": [
    "import pandas as pd\n",
    "import matplotlib.pyplot as plt\n",
    "import numpy as np\n",
    "import warnings\n",
    "warnings.filterwarnings('ignore')"
   ]
  },
  {
   "cell_type": "code",
   "execution_count": 2,
   "id": "binding-chemistry",
   "metadata": {},
   "outputs": [
    {
     "data": {
      "text/html": [
       "<div>\n",
       "<style scoped>\n",
       "    .dataframe tbody tr th:only-of-type {\n",
       "        vertical-align: middle;\n",
       "    }\n",
       "\n",
       "    .dataframe tbody tr th {\n",
       "        vertical-align: top;\n",
       "    }\n",
       "\n",
       "    .dataframe thead th {\n",
       "        text-align: right;\n",
       "    }\n",
       "</style>\n",
       "<table border=\"1\" class=\"dataframe\">\n",
       "  <thead>\n",
       "    <tr style=\"text-align: right;\">\n",
       "      <th></th>\n",
       "      <th>Unnamed: 0</th>\n",
       "      <th>customer_email</th>\n",
       "      <th>net_revenue</th>\n",
       "      <th>year</th>\n",
       "    </tr>\n",
       "  </thead>\n",
       "  <tbody>\n",
       "    <tr>\n",
       "      <th>0</th>\n",
       "      <td>0</td>\n",
       "      <td>nhknapwsbx@gmail.com</td>\n",
       "      <td>249.92</td>\n",
       "      <td>2015</td>\n",
       "    </tr>\n",
       "    <tr>\n",
       "      <th>1</th>\n",
       "      <td>1</td>\n",
       "      <td>joiuzbvcpn@gmail.com</td>\n",
       "      <td>87.61</td>\n",
       "      <td>2015</td>\n",
       "    </tr>\n",
       "    <tr>\n",
       "      <th>2</th>\n",
       "      <td>2</td>\n",
       "      <td>ukkjctepxt@gmail.com</td>\n",
       "      <td>168.38</td>\n",
       "      <td>2015</td>\n",
       "    </tr>\n",
       "    <tr>\n",
       "      <th>3</th>\n",
       "      <td>3</td>\n",
       "      <td>gykatilzrt@gmail.com</td>\n",
       "      <td>62.40</td>\n",
       "      <td>2015</td>\n",
       "    </tr>\n",
       "    <tr>\n",
       "      <th>4</th>\n",
       "      <td>4</td>\n",
       "      <td>mmsgsrtxah@gmail.com</td>\n",
       "      <td>43.08</td>\n",
       "      <td>2015</td>\n",
       "    </tr>\n",
       "  </tbody>\n",
       "</table>\n",
       "</div>"
      ],
      "text/plain": [
       "   Unnamed: 0         customer_email  net_revenue  year\n",
       "0           0   nhknapwsbx@gmail.com       249.92  2015\n",
       "1           1   joiuzbvcpn@gmail.com        87.61  2015\n",
       "2           2   ukkjctepxt@gmail.com       168.38  2015\n",
       "3           3   gykatilzrt@gmail.com        62.40  2015\n",
       "4           4   mmsgsrtxah@gmail.com        43.08  2015"
      ]
     },
     "execution_count": 2,
     "metadata": {},
     "output_type": "execute_result"
    }
   ],
   "source": [
    "df = pd.read_csv('casestudy.csv')\n",
    "\n",
    "df.head()"
   ]
  },
  {
   "cell_type": "code",
   "execution_count": 3,
   "id": "satisfactory-brooks",
   "metadata": {},
   "outputs": [],
   "source": [
    "df = df.drop(columns=['Unnamed: 0'])"
   ]
  },
  {
   "cell_type": "code",
   "execution_count": 4,
   "id": "compatible-personal",
   "metadata": {},
   "outputs": [
    {
     "data": {
      "text/html": [
       "<div>\n",
       "<style scoped>\n",
       "    .dataframe tbody tr th:only-of-type {\n",
       "        vertical-align: middle;\n",
       "    }\n",
       "\n",
       "    .dataframe tbody tr th {\n",
       "        vertical-align: top;\n",
       "    }\n",
       "\n",
       "    .dataframe thead th {\n",
       "        text-align: right;\n",
       "    }\n",
       "</style>\n",
       "<table border=\"1\" class=\"dataframe\">\n",
       "  <thead>\n",
       "    <tr style=\"text-align: right;\">\n",
       "      <th></th>\n",
       "      <th>customer_email</th>\n",
       "      <th>net_revenue</th>\n",
       "      <th>year</th>\n",
       "    </tr>\n",
       "  </thead>\n",
       "  <tbody>\n",
       "    <tr>\n",
       "      <th>0</th>\n",
       "      <td>nhknapwsbx@gmail.com</td>\n",
       "      <td>249.92</td>\n",
       "      <td>2015</td>\n",
       "    </tr>\n",
       "    <tr>\n",
       "      <th>1</th>\n",
       "      <td>joiuzbvcpn@gmail.com</td>\n",
       "      <td>87.61</td>\n",
       "      <td>2015</td>\n",
       "    </tr>\n",
       "    <tr>\n",
       "      <th>2</th>\n",
       "      <td>ukkjctepxt@gmail.com</td>\n",
       "      <td>168.38</td>\n",
       "      <td>2015</td>\n",
       "    </tr>\n",
       "    <tr>\n",
       "      <th>3</th>\n",
       "      <td>gykatilzrt@gmail.com</td>\n",
       "      <td>62.40</td>\n",
       "      <td>2015</td>\n",
       "    </tr>\n",
       "    <tr>\n",
       "      <th>4</th>\n",
       "      <td>mmsgsrtxah@gmail.com</td>\n",
       "      <td>43.08</td>\n",
       "      <td>2015</td>\n",
       "    </tr>\n",
       "  </tbody>\n",
       "</table>\n",
       "</div>"
      ],
      "text/plain": [
       "          customer_email  net_revenue  year\n",
       "0   nhknapwsbx@gmail.com       249.92  2015\n",
       "1   joiuzbvcpn@gmail.com        87.61  2015\n",
       "2   ukkjctepxt@gmail.com       168.38  2015\n",
       "3   gykatilzrt@gmail.com        62.40  2015\n",
       "4   mmsgsrtxah@gmail.com        43.08  2015"
      ]
     },
     "execution_count": 4,
     "metadata": {},
     "output_type": "execute_result"
    }
   ],
   "source": [
    "df.head()"
   ]
  },
  {
   "cell_type": "markdown",
   "id": "ambient-proof",
   "metadata": {},
   "source": [
    "## Split by year\n",
    "Split into a dataframe per year"
   ]
  },
  {
   "cell_type": "code",
   "execution_count": 7,
   "id": "thrown-power",
   "metadata": {},
   "outputs": [],
   "source": [
    "df_2015 = df[df['year'] == 2015].reset_index(drop=True)\n",
    "df_2016 = df[df['year'] == 2016].reset_index(drop=True)\n",
    "df_2017 = df[df['year'] == 2017].reset_index(drop=True)|"
   ]
  },
  {
   "cell_type": "code",
   "execution_count": 8,
   "id": "indie-wildlife",
   "metadata": {},
   "outputs": [
    {
     "data": {
      "text/html": [
       "<div>\n",
       "<style scoped>\n",
       "    .dataframe tbody tr th:only-of-type {\n",
       "        vertical-align: middle;\n",
       "    }\n",
       "\n",
       "    .dataframe tbody tr th {\n",
       "        vertical-align: top;\n",
       "    }\n",
       "\n",
       "    .dataframe thead th {\n",
       "        text-align: right;\n",
       "    }\n",
       "</style>\n",
       "<table border=\"1\" class=\"dataframe\">\n",
       "  <thead>\n",
       "    <tr style=\"text-align: right;\">\n",
       "      <th></th>\n",
       "      <th>customer_email</th>\n",
       "      <th>net_revenue</th>\n",
       "      <th>year</th>\n",
       "    </tr>\n",
       "  </thead>\n",
       "  <tbody>\n",
       "    <tr>\n",
       "      <th>0</th>\n",
       "      <td>nhknapwsbx@gmail.com</td>\n",
       "      <td>249.92</td>\n",
       "      <td>2015</td>\n",
       "    </tr>\n",
       "    <tr>\n",
       "      <th>1</th>\n",
       "      <td>joiuzbvcpn@gmail.com</td>\n",
       "      <td>87.61</td>\n",
       "      <td>2015</td>\n",
       "    </tr>\n",
       "    <tr>\n",
       "      <th>2</th>\n",
       "      <td>ukkjctepxt@gmail.com</td>\n",
       "      <td>168.38</td>\n",
       "      <td>2015</td>\n",
       "    </tr>\n",
       "    <tr>\n",
       "      <th>3</th>\n",
       "      <td>gykatilzrt@gmail.com</td>\n",
       "      <td>62.40</td>\n",
       "      <td>2015</td>\n",
       "    </tr>\n",
       "    <tr>\n",
       "      <th>4</th>\n",
       "      <td>mmsgsrtxah@gmail.com</td>\n",
       "      <td>43.08</td>\n",
       "      <td>2015</td>\n",
       "    </tr>\n",
       "  </tbody>\n",
       "</table>\n",
       "</div>"
      ],
      "text/plain": [
       "          customer_email  net_revenue  year\n",
       "0   nhknapwsbx@gmail.com       249.92  2015\n",
       "1   joiuzbvcpn@gmail.com        87.61  2015\n",
       "2   ukkjctepxt@gmail.com       168.38  2015\n",
       "3   gykatilzrt@gmail.com        62.40  2015\n",
       "4   mmsgsrtxah@gmail.com        43.08  2015"
      ]
     },
     "execution_count": 8,
     "metadata": {},
     "output_type": "execute_result"
    }
   ],
   "source": [
    "df_2015.head()"
   ]
  },
  {
   "cell_type": "code",
   "execution_count": 9,
   "id": "compressed-dispatch",
   "metadata": {},
   "outputs": [
    {
     "data": {
      "text/html": [
       "<div>\n",
       "<style scoped>\n",
       "    .dataframe tbody tr th:only-of-type {\n",
       "        vertical-align: middle;\n",
       "    }\n",
       "\n",
       "    .dataframe tbody tr th {\n",
       "        vertical-align: top;\n",
       "    }\n",
       "\n",
       "    .dataframe thead th {\n",
       "        text-align: right;\n",
       "    }\n",
       "</style>\n",
       "<table border=\"1\" class=\"dataframe\">\n",
       "  <thead>\n",
       "    <tr style=\"text-align: right;\">\n",
       "      <th></th>\n",
       "      <th>customer_email</th>\n",
       "      <th>net_revenue</th>\n",
       "      <th>year</th>\n",
       "    </tr>\n",
       "  </thead>\n",
       "  <tbody>\n",
       "    <tr>\n",
       "      <th>0</th>\n",
       "      <td>mwrossuukz@gmail.com</td>\n",
       "      <td>197.26</td>\n",
       "      <td>2016</td>\n",
       "    </tr>\n",
       "    <tr>\n",
       "      <th>1</th>\n",
       "      <td>gkwsoupawk@gmail.com</td>\n",
       "      <td>38.28</td>\n",
       "      <td>2016</td>\n",
       "    </tr>\n",
       "    <tr>\n",
       "      <th>2</th>\n",
       "      <td>vlyigtgfzs@gmail.com</td>\n",
       "      <td>154.57</td>\n",
       "      <td>2016</td>\n",
       "    </tr>\n",
       "    <tr>\n",
       "      <th>3</th>\n",
       "      <td>yfirychuhk@gmail.com</td>\n",
       "      <td>102.47</td>\n",
       "      <td>2016</td>\n",
       "    </tr>\n",
       "    <tr>\n",
       "      <th>4</th>\n",
       "      <td>trnzgqinuu@gmail.com</td>\n",
       "      <td>32.03</td>\n",
       "      <td>2016</td>\n",
       "    </tr>\n",
       "  </tbody>\n",
       "</table>\n",
       "</div>"
      ],
      "text/plain": [
       "          customer_email  net_revenue  year\n",
       "0   mwrossuukz@gmail.com       197.26  2016\n",
       "1   gkwsoupawk@gmail.com        38.28  2016\n",
       "2   vlyigtgfzs@gmail.com       154.57  2016\n",
       "3   yfirychuhk@gmail.com       102.47  2016\n",
       "4   trnzgqinuu@gmail.com        32.03  2016"
      ]
     },
     "execution_count": 9,
     "metadata": {},
     "output_type": "execute_result"
    }
   ],
   "source": [
    "df_2016.head()"
   ]
  },
  {
   "cell_type": "code",
   "execution_count": 10,
   "id": "outstanding-titanium",
   "metadata": {},
   "outputs": [
    {
     "data": {
      "text/html": [
       "<div>\n",
       "<style scoped>\n",
       "    .dataframe tbody tr th:only-of-type {\n",
       "        vertical-align: middle;\n",
       "    }\n",
       "\n",
       "    .dataframe tbody tr th {\n",
       "        vertical-align: top;\n",
       "    }\n",
       "\n",
       "    .dataframe thead th {\n",
       "        text-align: right;\n",
       "    }\n",
       "</style>\n",
       "<table border=\"1\" class=\"dataframe\">\n",
       "  <thead>\n",
       "    <tr style=\"text-align: right;\">\n",
       "      <th></th>\n",
       "      <th>customer_email</th>\n",
       "      <th>net_revenue</th>\n",
       "      <th>year</th>\n",
       "    </tr>\n",
       "  </thead>\n",
       "  <tbody>\n",
       "    <tr>\n",
       "      <th>0</th>\n",
       "      <td>mwrossuukz@gmail.com</td>\n",
       "      <td>96.61</td>\n",
       "      <td>2017</td>\n",
       "    </tr>\n",
       "    <tr>\n",
       "      <th>1</th>\n",
       "      <td>qvjfterwnk@gmail.com</td>\n",
       "      <td>176.00</td>\n",
       "      <td>2017</td>\n",
       "    </tr>\n",
       "    <tr>\n",
       "      <th>2</th>\n",
       "      <td>vlyigtgfzs@gmail.com</td>\n",
       "      <td>73.47</td>\n",
       "      <td>2017</td>\n",
       "    </tr>\n",
       "    <tr>\n",
       "      <th>3</th>\n",
       "      <td>yfirychuhk@gmail.com</td>\n",
       "      <td>138.17</td>\n",
       "      <td>2017</td>\n",
       "    </tr>\n",
       "    <tr>\n",
       "      <th>4</th>\n",
       "      <td>fdkiioqtli@gmail.com</td>\n",
       "      <td>156.87</td>\n",
       "      <td>2017</td>\n",
       "    </tr>\n",
       "  </tbody>\n",
       "</table>\n",
       "</div>"
      ],
      "text/plain": [
       "          customer_email  net_revenue  year\n",
       "0   mwrossuukz@gmail.com        96.61  2017\n",
       "1  qvjfterwnk@gmail.com        176.00  2017\n",
       "2   vlyigtgfzs@gmail.com        73.47  2017\n",
       "3   yfirychuhk@gmail.com       138.17  2017\n",
       "4   fdkiioqtli@gmail.com       156.87  2017"
      ]
     },
     "execution_count": 10,
     "metadata": {},
     "output_type": "execute_result"
    }
   ],
   "source": [
    "df_2017.head()"
   ]
  },
  {
   "cell_type": "code",
   "execution_count": 32,
   "id": "outside-folks",
   "metadata": {
    "scrolled": true
   },
   "outputs": [
    {
     "data": {
      "text/plain": [
       "(59584, 6)"
      ]
     },
     "execution_count": 32,
     "metadata": {},
     "output_type": "execute_result"
    }
   ],
   "source": [
    "df_16_15 = pd.merge(df_2016,df_2015, on = 'customer_email')\n",
    "df_16_15.shape"
   ]
  },
  {
   "cell_type": "code",
   "execution_count": 36,
   "id": "hazardous-parliament",
   "metadata": {},
   "outputs": [
    {
     "data": {
      "text/html": [
       "<div>\n",
       "<style scoped>\n",
       "    .dataframe tbody tr th:only-of-type {\n",
       "        vertical-align: middle;\n",
       "    }\n",
       "\n",
       "    .dataframe tbody tr th {\n",
       "        vertical-align: top;\n",
       "    }\n",
       "\n",
       "    .dataframe thead th {\n",
       "        text-align: right;\n",
       "    }\n",
       "</style>\n",
       "<table border=\"1\" class=\"dataframe\">\n",
       "  <thead>\n",
       "    <tr style=\"text-align: right;\">\n",
       "      <th></th>\n",
       "      <th>customer_email</th>\n",
       "      <th>net_revenue_x</th>\n",
       "      <th>year_x</th>\n",
       "      <th>isExisting</th>\n",
       "      <th>net_revenue_y</th>\n",
       "      <th>year_y</th>\n",
       "    </tr>\n",
       "  </thead>\n",
       "  <tbody>\n",
       "    <tr>\n",
       "      <th>0</th>\n",
       "      <td>baiikostmd@gmail.com</td>\n",
       "      <td>142.57</td>\n",
       "      <td>2016</td>\n",
       "      <td>True</td>\n",
       "      <td>170.70</td>\n",
       "      <td>2015</td>\n",
       "    </tr>\n",
       "    <tr>\n",
       "      <th>1</th>\n",
       "      <td>lfeafnigbu@gmail.com</td>\n",
       "      <td>35.06</td>\n",
       "      <td>2016</td>\n",
       "      <td>True</td>\n",
       "      <td>54.99</td>\n",
       "      <td>2015</td>\n",
       "    </tr>\n",
       "    <tr>\n",
       "      <th>2</th>\n",
       "      <td>tqxsjlgjpi@gmail.com</td>\n",
       "      <td>33.50</td>\n",
       "      <td>2016</td>\n",
       "      <td>True</td>\n",
       "      <td>107.71</td>\n",
       "      <td>2015</td>\n",
       "    </tr>\n",
       "    <tr>\n",
       "      <th>3</th>\n",
       "      <td>hxshgpdxtr@gmail.com</td>\n",
       "      <td>217.35</td>\n",
       "      <td>2016</td>\n",
       "      <td>True</td>\n",
       "      <td>180.59</td>\n",
       "      <td>2015</td>\n",
       "    </tr>\n",
       "    <tr>\n",
       "      <th>4</th>\n",
       "      <td>zvhsssvgor@gmail.com</td>\n",
       "      <td>43.84</td>\n",
       "      <td>2016</td>\n",
       "      <td>True</td>\n",
       "      <td>21.55</td>\n",
       "      <td>2015</td>\n",
       "    </tr>\n",
       "  </tbody>\n",
       "</table>\n",
       "</div>"
      ],
      "text/plain": [
       "          customer_email  net_revenue_x  year_x  isExisting  net_revenue_y  \\\n",
       "0   baiikostmd@gmail.com         142.57    2016        True         170.70   \n",
       "1   lfeafnigbu@gmail.com          35.06    2016        True          54.99   \n",
       "2   tqxsjlgjpi@gmail.com          33.50    2016        True         107.71   \n",
       "3   hxshgpdxtr@gmail.com         217.35    2016        True         180.59   \n",
       "4   zvhsssvgor@gmail.com          43.84    2016        True          21.55   \n",
       "\n",
       "   year_y  \n",
       "0    2015  \n",
       "1    2015  \n",
       "2    2015  \n",
       "3    2015  \n",
       "4    2015  "
      ]
     },
     "execution_count": 36,
     "metadata": {},
     "output_type": "execute_result"
    }
   ],
   "source": [
    "df_16_15.head()"
   ]
  },
  {
   "cell_type": "code",
   "execution_count": 20,
   "id": "overhead-glossary",
   "metadata": {},
   "outputs": [
    {
     "data": {
      "text/plain": [
       "(20959, 5)"
      ]
     },
     "execution_count": 20,
     "metadata": {},
     "output_type": "execute_result"
    }
   ],
   "source": [
    "df_17_16 = pd.merge(df_2017,df_2016, on = \"customer_email\")\n",
    "df_17_16.shape"
   ]
  },
  {
   "cell_type": "code",
   "execution_count": 35,
   "id": "modern-calendar",
   "metadata": {},
   "outputs": [
    {
     "data": {
      "text/html": [
       "<div>\n",
       "<style scoped>\n",
       "    .dataframe tbody tr th:only-of-type {\n",
       "        vertical-align: middle;\n",
       "    }\n",
       "\n",
       "    .dataframe tbody tr th {\n",
       "        vertical-align: top;\n",
       "    }\n",
       "\n",
       "    .dataframe thead th {\n",
       "        text-align: right;\n",
       "    }\n",
       "</style>\n",
       "<table border=\"1\" class=\"dataframe\">\n",
       "  <thead>\n",
       "    <tr style=\"text-align: right;\">\n",
       "      <th></th>\n",
       "      <th>customer_email</th>\n",
       "      <th>net_revenue_x</th>\n",
       "      <th>year_x</th>\n",
       "      <th>net_revenue_y</th>\n",
       "      <th>year_y</th>\n",
       "    </tr>\n",
       "  </thead>\n",
       "  <tbody>\n",
       "    <tr>\n",
       "      <th>0</th>\n",
       "      <td>yixtbjnxce@gmail.com</td>\n",
       "      <td>133.86</td>\n",
       "      <td>2017</td>\n",
       "      <td>201.32</td>\n",
       "      <td>2016</td>\n",
       "    </tr>\n",
       "    <tr>\n",
       "      <th>1</th>\n",
       "      <td>gwqjyelgct@gmail.com</td>\n",
       "      <td>164.10</td>\n",
       "      <td>2017</td>\n",
       "      <td>14.62</td>\n",
       "      <td>2016</td>\n",
       "    </tr>\n",
       "    <tr>\n",
       "      <th>2</th>\n",
       "      <td>hxshgpdxtr@gmail.com</td>\n",
       "      <td>178.10</td>\n",
       "      <td>2017</td>\n",
       "      <td>217.35</td>\n",
       "      <td>2016</td>\n",
       "    </tr>\n",
       "    <tr>\n",
       "      <th>3</th>\n",
       "      <td>gipqsrvngd@gmail.com</td>\n",
       "      <td>172.90</td>\n",
       "      <td>2017</td>\n",
       "      <td>156.06</td>\n",
       "      <td>2016</td>\n",
       "    </tr>\n",
       "    <tr>\n",
       "      <th>4</th>\n",
       "      <td>cdvwonzpwu@gmail.com</td>\n",
       "      <td>102.46</td>\n",
       "      <td>2017</td>\n",
       "      <td>140.43</td>\n",
       "      <td>2016</td>\n",
       "    </tr>\n",
       "  </tbody>\n",
       "</table>\n",
       "</div>"
      ],
      "text/plain": [
       "         customer_email  net_revenue_x  year_x  net_revenue_y  year_y\n",
       "0  yixtbjnxce@gmail.com         133.86    2017         201.32    2016\n",
       "1  gwqjyelgct@gmail.com         164.10    2017          14.62    2016\n",
       "2  hxshgpdxtr@gmail.com         178.10    2017         217.35    2016\n",
       "3  gipqsrvngd@gmail.com         172.90    2017         156.06    2016\n",
       "4  cdvwonzpwu@gmail.com         102.46    2017         140.43    2016"
      ]
     },
     "execution_count": 35,
     "metadata": {},
     "output_type": "execute_result"
    }
   ],
   "source": [
    "df_17_16.head()"
   ]
  },
  {
   "cell_type": "code",
   "execution_count": 21,
   "id": "surprising-viking",
   "metadata": {},
   "outputs": [
    {
     "data": {
      "text/plain": [
       "(6928, 5)"
      ]
     },
     "execution_count": 21,
     "metadata": {},
     "output_type": "execute_result"
    }
   ],
   "source": [
    "df_17_15 = pd.merge(df_2017,df_2015, on = \"customer_email\")\n",
    "df_17_15.shape"
   ]
  },
  {
   "cell_type": "code",
   "execution_count": 34,
   "id": "vocational-implement",
   "metadata": {},
   "outputs": [
    {
     "data": {
      "text/html": [
       "<div>\n",
       "<style scoped>\n",
       "    .dataframe tbody tr th:only-of-type {\n",
       "        vertical-align: middle;\n",
       "    }\n",
       "\n",
       "    .dataframe tbody tr th {\n",
       "        vertical-align: top;\n",
       "    }\n",
       "\n",
       "    .dataframe thead th {\n",
       "        text-align: right;\n",
       "    }\n",
       "</style>\n",
       "<table border=\"1\" class=\"dataframe\">\n",
       "  <thead>\n",
       "    <tr style=\"text-align: right;\">\n",
       "      <th></th>\n",
       "      <th>customer_email</th>\n",
       "      <th>net_revenue_x</th>\n",
       "      <th>year_x</th>\n",
       "      <th>net_revenue_y</th>\n",
       "      <th>year_y</th>\n",
       "    </tr>\n",
       "  </thead>\n",
       "  <tbody>\n",
       "    <tr>\n",
       "      <th>0</th>\n",
       "      <td>hxshgpdxtr@gmail.com</td>\n",
       "      <td>178.10</td>\n",
       "      <td>2017</td>\n",
       "      <td>180.59</td>\n",
       "      <td>2015</td>\n",
       "    </tr>\n",
       "    <tr>\n",
       "      <th>1</th>\n",
       "      <td>gipqsrvngd@gmail.com</td>\n",
       "      <td>172.90</td>\n",
       "      <td>2017</td>\n",
       "      <td>122.71</td>\n",
       "      <td>2015</td>\n",
       "    </tr>\n",
       "    <tr>\n",
       "      <th>2</th>\n",
       "      <td>akwxtbjuki@gmail.com</td>\n",
       "      <td>8.78</td>\n",
       "      <td>2017</td>\n",
       "      <td>246.79</td>\n",
       "      <td>2015</td>\n",
       "    </tr>\n",
       "    <tr>\n",
       "      <th>3</th>\n",
       "      <td>tcxbzksocq@gmail.com</td>\n",
       "      <td>126.54</td>\n",
       "      <td>2017</td>\n",
       "      <td>79.72</td>\n",
       "      <td>2015</td>\n",
       "    </tr>\n",
       "    <tr>\n",
       "      <th>4</th>\n",
       "      <td>lbdfqdojoa@gmail.com</td>\n",
       "      <td>86.79</td>\n",
       "      <td>2017</td>\n",
       "      <td>201.26</td>\n",
       "      <td>2015</td>\n",
       "    </tr>\n",
       "  </tbody>\n",
       "</table>\n",
       "</div>"
      ],
      "text/plain": [
       "         customer_email  net_revenue_x  year_x  net_revenue_y  year_y\n",
       "0  hxshgpdxtr@gmail.com         178.10    2017         180.59    2015\n",
       "1  gipqsrvngd@gmail.com         172.90    2017         122.71    2015\n",
       "2  akwxtbjuki@gmail.com           8.78    2017         246.79    2015\n",
       "3  tcxbzksocq@gmail.com         126.54    2017          79.72    2015\n",
       "4  lbdfqdojoa@gmail.com          86.79    2017         201.26    2015"
      ]
     },
     "execution_count": 34,
     "metadata": {},
     "output_type": "execute_result"
    }
   ],
   "source": [
    "df_17_15.head()"
   ]
  },
  {
   "cell_type": "code",
   "execution_count": 22,
   "id": "primary-russian",
   "metadata": {},
   "outputs": [
    {
     "data": {
      "text/plain": [
       "(6162, 7)"
      ]
     },
     "execution_count": 22,
     "metadata": {},
     "output_type": "execute_result"
    }
   ],
   "source": [
    "df_17_16_15 = pd.merge(df_2017, df_16_15, on = \"customer_email\")\n",
    "df_17_16_15.shape"
   ]
  },
  {
   "cell_type": "code",
   "execution_count": 33,
   "id": "compressed-quantum",
   "metadata": {},
   "outputs": [
    {
     "data": {
      "text/html": [
       "<div>\n",
       "<style scoped>\n",
       "    .dataframe tbody tr th:only-of-type {\n",
       "        vertical-align: middle;\n",
       "    }\n",
       "\n",
       "    .dataframe tbody tr th {\n",
       "        vertical-align: top;\n",
       "    }\n",
       "\n",
       "    .dataframe thead th {\n",
       "        text-align: right;\n",
       "    }\n",
       "</style>\n",
       "<table border=\"1\" class=\"dataframe\">\n",
       "  <thead>\n",
       "    <tr style=\"text-align: right;\">\n",
       "      <th></th>\n",
       "      <th>customer_email</th>\n",
       "      <th>net_revenue</th>\n",
       "      <th>year</th>\n",
       "      <th>net_revenue_x</th>\n",
       "      <th>year_x</th>\n",
       "      <th>net_revenue_y</th>\n",
       "      <th>year_y</th>\n",
       "    </tr>\n",
       "  </thead>\n",
       "  <tbody>\n",
       "    <tr>\n",
       "      <th>0</th>\n",
       "      <td>hxshgpdxtr@gmail.com</td>\n",
       "      <td>178.10</td>\n",
       "      <td>2017</td>\n",
       "      <td>217.35</td>\n",
       "      <td>2016</td>\n",
       "      <td>180.59</td>\n",
       "      <td>2015</td>\n",
       "    </tr>\n",
       "    <tr>\n",
       "      <th>1</th>\n",
       "      <td>gipqsrvngd@gmail.com</td>\n",
       "      <td>172.90</td>\n",
       "      <td>2017</td>\n",
       "      <td>156.06</td>\n",
       "      <td>2016</td>\n",
       "      <td>122.71</td>\n",
       "      <td>2015</td>\n",
       "    </tr>\n",
       "    <tr>\n",
       "      <th>2</th>\n",
       "      <td>akwxtbjuki@gmail.com</td>\n",
       "      <td>8.78</td>\n",
       "      <td>2017</td>\n",
       "      <td>113.27</td>\n",
       "      <td>2016</td>\n",
       "      <td>246.79</td>\n",
       "      <td>2015</td>\n",
       "    </tr>\n",
       "    <tr>\n",
       "      <th>3</th>\n",
       "      <td>tcxbzksocq@gmail.com</td>\n",
       "      <td>126.54</td>\n",
       "      <td>2017</td>\n",
       "      <td>162.06</td>\n",
       "      <td>2016</td>\n",
       "      <td>79.72</td>\n",
       "      <td>2015</td>\n",
       "    </tr>\n",
       "    <tr>\n",
       "      <th>4</th>\n",
       "      <td>nfyvvsbdpy@gmail.com</td>\n",
       "      <td>209.39</td>\n",
       "      <td>2017</td>\n",
       "      <td>223.20</td>\n",
       "      <td>2016</td>\n",
       "      <td>187.65</td>\n",
       "      <td>2015</td>\n",
       "    </tr>\n",
       "  </tbody>\n",
       "</table>\n",
       "</div>"
      ],
      "text/plain": [
       "         customer_email  net_revenue  year  net_revenue_x  year_x  \\\n",
       "0  hxshgpdxtr@gmail.com       178.10  2017         217.35    2016   \n",
       "1  gipqsrvngd@gmail.com       172.90  2017         156.06    2016   \n",
       "2  akwxtbjuki@gmail.com         8.78  2017         113.27    2016   \n",
       "3  tcxbzksocq@gmail.com       126.54  2017         162.06    2016   \n",
       "4  nfyvvsbdpy@gmail.com       209.39  2017         223.20    2016   \n",
       "\n",
       "   net_revenue_y  year_y  \n",
       "0         180.59    2015  \n",
       "1         122.71    2015  \n",
       "2         246.79    2015  \n",
       "3          79.72    2015  \n",
       "4         187.65    2015  "
      ]
     },
     "execution_count": 33,
     "metadata": {},
     "output_type": "execute_result"
    }
   ],
   "source": [
    "df_17_16_15.head()"
   ]
  },
  {
   "cell_type": "markdown",
   "id": "patent-aurora",
   "metadata": {},
   "source": [
    "## Total Revenue for each year"
   ]
  },
  {
   "cell_type": "code",
   "execution_count": 24,
   "id": "chemical-booking",
   "metadata": {},
   "outputs": [
    {
     "data": {
      "text/plain": [
       "year\n",
       "2015    29036749.19\n",
       "Name: net_revenue, dtype: float64"
      ]
     },
     "execution_count": 24,
     "metadata": {},
     "output_type": "execute_result"
    }
   ],
   "source": [
    "df_2015.groupby(['year'])['net_revenue'].sum()"
   ]
  },
  {
   "cell_type": "code",
   "execution_count": 25,
   "id": "exciting-sense",
   "metadata": {},
   "outputs": [
    {
     "data": {
      "text/plain": [
       "year\n",
       "2016    25730943.59\n",
       "Name: net_revenue, dtype: float64"
      ]
     },
     "execution_count": 25,
     "metadata": {},
     "output_type": "execute_result"
    }
   ],
   "source": [
    "df_2016.groupby(['year'])['net_revenue'].sum()"
   ]
  },
  {
   "cell_type": "code",
   "execution_count": 26,
   "id": "automotive-pencil",
   "metadata": {},
   "outputs": [
    {
     "data": {
      "text/plain": [
       "year\n",
       "2017    31417495.03\n",
       "Name: net_revenue, dtype: float64"
      ]
     },
     "execution_count": 26,
     "metadata": {},
     "output_type": "execute_result"
    }
   ],
   "source": [
    "df_2017.groupby(['year'])['net_revenue'].sum()"
   ]
  },
  {
   "cell_type": "markdown",
   "id": "gentle-ebony",
   "metadata": {},
   "source": [
    "## New Customer Revenue"
   ]
  },
  {
   "cell_type": "code",
   "execution_count": 27,
   "id": "provincial-powder",
   "metadata": {},
   "outputs": [],
   "source": [
    "email_2015 = df_2015['customer_email'].to_list()\n",
    "email_2016 = df_2016['customer_email'].to_list()\n",
    "email_2017 = df_2017['customer_email'].to_list()"
   ]
  },
  {
   "cell_type": "code",
   "execution_count": 28,
   "id": "worthy-berlin",
   "metadata": {},
   "outputs": [],
   "source": [
    "df_2016['isExisting'] = df_2016['customer_email'].isin(email_2015)\n",
    "df_2017['isExisting'] = df_2017['customer_email'].isin(email_2015 or email_2016)"
   ]
  },
  {
   "cell_type": "code",
   "execution_count": 29,
   "id": "waiting-danger",
   "metadata": {},
   "outputs": [
    {
     "data": {
      "text/plain": [
       "isExisting\n",
       "False    18245491.01\n",
       "True      7485452.58\n",
       "Name: net_revenue, dtype: float64"
      ]
     },
     "execution_count": 29,
     "metadata": {},
     "output_type": "execute_result"
    }
   ],
   "source": [
    "df_2016.groupby(['isExisting'])['net_revenue'].sum()"
   ]
  },
  {
   "cell_type": "code",
   "execution_count": 30,
   "id": "color-intent",
   "metadata": {},
   "outputs": [
    {
     "data": {
      "text/plain": [
       "isExisting\n",
       "False    30553479.90\n",
       "True       864015.13\n",
       "Name: net_revenue, dtype: float64"
      ]
     },
     "execution_count": 30,
     "metadata": {},
     "output_type": "execute_result"
    }
   ],
   "source": [
    "df_2017.groupby(['isExisting'])['net_revenue'].sum()"
   ]
  },
  {
   "cell_type": "markdown",
   "id": "placed-preliminary",
   "metadata": {},
   "source": [
    "## Existing Customer Growth"
   ]
  },
  {
   "cell_type": "code",
   "execution_count": 40,
   "id": "religious-guard",
   "metadata": {},
   "outputs": [
    {
     "data": {
      "text/plain": [
       "20335.459999999985"
      ]
     },
     "execution_count": 40,
     "metadata": {},
     "output_type": "execute_result"
    }
   ],
   "source": [
    "## from 2015 - 2016\n",
    "df_16_15['growth'] = df_16_15['net_revenue_x'] - df_16_15['net_revenue_y']\n",
    "df_16_15['growth'].sum()"
   ]
  },
  {
   "cell_type": "code",
   "execution_count": 41,
   "id": "wooden-somalia",
   "metadata": {},
   "outputs": [
    {
     "data": {
      "text/plain": [
       "20611.340000000004"
      ]
     },
     "execution_count": 41,
     "metadata": {},
     "output_type": "execute_result"
    }
   ],
   "source": [
    "#from 2016 - 2017\n",
    "df_17_16['growth'] = df_17_16['net_revenue_x'] - df_17_16['net_revenue_y']\n",
    "df_17_16['growth'].sum()"
   ]
  },
  {
   "cell_type": "code",
   "execution_count": 42,
   "id": "gentle-group",
   "metadata": {},
   "outputs": [
    {
     "data": {
      "text/plain": [
       "-8474.55"
      ]
     },
     "execution_count": 42,
     "metadata": {},
     "output_type": "execute_result"
    }
   ],
   "source": [
    "#from 2015 - 2017\n",
    "df_17_16_15['growth'] = df_17_16_15['net_revenue'] - df_17_16_15['net_revenue_y']\n",
    "df_17_16_15['growth'].sum()"
   ]
  },
  {
   "cell_type": "markdown",
   "id": "concerned-abortion",
   "metadata": {},
   "source": [
    "## Existing Customer Revenue Current Year"
   ]
  },
  {
   "cell_type": "code",
   "execution_count": 46,
   "id": "olympic-macintosh",
   "metadata": {},
   "outputs": [
    {
     "data": {
      "text/plain": [
       "7485452.58"
      ]
     },
     "execution_count": 46,
     "metadata": {},
     "output_type": "execute_result"
    }
   ],
   "source": [
    "#2016\n",
    "df_16_15['net_revenue_x'].sum()"
   ]
  },
  {
   "cell_type": "code",
   "execution_count": 47,
   "id": "sitting-inside",
   "metadata": {},
   "outputs": [
    {
     "data": {
      "text/plain": [
       "2641259.99"
      ]
     },
     "execution_count": 47,
     "metadata": {},
     "output_type": "execute_result"
    }
   ],
   "source": [
    "#2017\n",
    "df_17_16['net_revenue_x'].sum()"
   ]
  },
  {
   "cell_type": "markdown",
   "id": "catholic-worthy",
   "metadata": {},
   "source": [
    "## Existing Customer Revenue Prior Year"
   ]
  },
  {
   "cell_type": "code",
   "execution_count": 48,
   "id": "forbidden-mother",
   "metadata": {},
   "outputs": [
    {
     "data": {
      "text/plain": [
       "7465117.12"
      ]
     },
     "execution_count": 48,
     "metadata": {},
     "output_type": "execute_result"
    }
   ],
   "source": [
    "#2016 (prior year = 2015)\n",
    "df_16_15['net_revenue_y'].sum()"
   ]
  },
  {
   "cell_type": "code",
   "execution_count": 49,
   "id": "imported-slave",
   "metadata": {},
   "outputs": [
    {
     "data": {
      "text/plain": [
       "2620648.65"
      ]
     },
     "execution_count": 49,
     "metadata": {},
     "output_type": "execute_result"
    }
   ],
   "source": [
    "#2017 (prior year = 2016)\n",
    "df_17_16['net_revenue_y'].sum()"
   ]
  },
  {
   "cell_type": "markdown",
   "id": "emotional-mistress",
   "metadata": {},
   "source": [
    "## Total Customers Current Year"
   ]
  },
  {
   "cell_type": "code",
   "execution_count": 5,
   "id": "hidden-exemption",
   "metadata": {},
   "outputs": [
    {
     "data": {
      "text/html": [
       "<div>\n",
       "<style scoped>\n",
       "    .dataframe tbody tr th:only-of-type {\n",
       "        vertical-align: middle;\n",
       "    }\n",
       "\n",
       "    .dataframe tbody tr th {\n",
       "        vertical-align: top;\n",
       "    }\n",
       "\n",
       "    .dataframe thead th {\n",
       "        text-align: right;\n",
       "    }\n",
       "</style>\n",
       "<table border=\"1\" class=\"dataframe\">\n",
       "  <thead>\n",
       "    <tr style=\"text-align: right;\">\n",
       "      <th></th>\n",
       "      <th>customer_email</th>\n",
       "      <th>net_revenue</th>\n",
       "    </tr>\n",
       "    <tr>\n",
       "      <th>year</th>\n",
       "      <th></th>\n",
       "      <th></th>\n",
       "    </tr>\n",
       "  </thead>\n",
       "  <tbody>\n",
       "    <tr>\n",
       "      <th>2015</th>\n",
       "      <td>231294</td>\n",
       "      <td>231294</td>\n",
       "    </tr>\n",
       "    <tr>\n",
       "      <th>2016</th>\n",
       "      <td>204646</td>\n",
       "      <td>204646</td>\n",
       "    </tr>\n",
       "    <tr>\n",
       "      <th>2017</th>\n",
       "      <td>249987</td>\n",
       "      <td>249987</td>\n",
       "    </tr>\n",
       "  </tbody>\n",
       "</table>\n",
       "</div>"
      ],
      "text/plain": [
       "      customer_email  net_revenue\n",
       "year                             \n",
       "2015          231294       231294\n",
       "2016          204646       204646\n",
       "2017          249987       249987"
      ]
     },
     "execution_count": 5,
     "metadata": {},
     "output_type": "execute_result"
    }
   ],
   "source": [
    "df.groupby(['year']).count()"
   ]
  },
  {
   "cell_type": "markdown",
   "id": "given-checklist",
   "metadata": {},
   "source": [
    "## Total Customers Previous Year"
   ]
  },
  {
   "cell_type": "code",
   "execution_count": 53,
   "id": "understood-ottawa",
   "metadata": {},
   "outputs": [
    {
     "data": {
      "text/html": [
       "<div>\n",
       "<style scoped>\n",
       "    .dataframe tbody tr th:only-of-type {\n",
       "        vertical-align: middle;\n",
       "    }\n",
       "\n",
       "    .dataframe tbody tr th {\n",
       "        vertical-align: top;\n",
       "    }\n",
       "\n",
       "    .dataframe thead th {\n",
       "        text-align: right;\n",
       "    }\n",
       "</style>\n",
       "<table border=\"1\" class=\"dataframe\">\n",
       "  <thead>\n",
       "    <tr style=\"text-align: right;\">\n",
       "      <th></th>\n",
       "      <th>customer_email</th>\n",
       "      <th>net_revenue</th>\n",
       "    </tr>\n",
       "    <tr>\n",
       "      <th>year</th>\n",
       "      <th></th>\n",
       "      <th></th>\n",
       "    </tr>\n",
       "  </thead>\n",
       "  <tbody>\n",
       "    <tr>\n",
       "      <th>2015</th>\n",
       "      <td>231294</td>\n",
       "      <td>231294</td>\n",
       "    </tr>\n",
       "    <tr>\n",
       "      <th>2016</th>\n",
       "      <td>204646</td>\n",
       "      <td>204646</td>\n",
       "    </tr>\n",
       "    <tr>\n",
       "      <th>2017</th>\n",
       "      <td>249987</td>\n",
       "      <td>249987</td>\n",
       "    </tr>\n",
       "  </tbody>\n",
       "</table>\n",
       "</div>"
      ],
      "text/plain": [
       "      customer_email  net_revenue\n",
       "year                             \n",
       "2015          231294       231294\n",
       "2016          204646       204646\n",
       "2017          249987       249987"
      ]
     },
     "execution_count": 53,
     "metadata": {},
     "output_type": "execute_result"
    }
   ],
   "source": [
    "df.groupby(['year']).count()"
   ]
  },
  {
   "cell_type": "markdown",
   "id": "wired-mathematics",
   "metadata": {},
   "source": [
    "## New Customers"
   ]
  },
  {
   "cell_type": "code",
   "execution_count": 61,
   "id": "lightweight-corruption",
   "metadata": {},
   "outputs": [
    {
     "name": "stdout",
     "output_type": "stream",
     "text": [
      "2016 total customers: 204646 \n",
      "2017 total customers 249987\n",
      "2016 existing customers: 59584 \n",
      "2017 existing customers 20959\n"
     ]
    }
   ],
   "source": [
    "#number of existing customers - total number of customers\n",
    "\n",
    "print(\"2016 total customers:\",df_2016.shape[0],\"\\n2017 total customers\",df_2017.shape[0])\n",
    "print(\"2016 existing customers:\",df_16_15.shape[0],\"\\n2017 existing customers\",df_17_16.shape[0])"
   ]
  },
  {
   "cell_type": "code",
   "execution_count": 64,
   "id": "macro-chicken",
   "metadata": {},
   "outputs": [
    {
     "name": "stdout",
     "output_type": "stream",
     "text": [
      "New Customers 2016: 145062 \n",
      "New Customers 2017: 229028\n"
     ]
    }
   ],
   "source": [
    "print(\"New Customers 2016:\",204646-59584,\"\\nNew Customers 2017:\",249987-20959)"
   ]
  },
  {
   "cell_type": "markdown",
   "id": "dynamic-denmark",
   "metadata": {},
   "source": [
    "## Lost Customers"
   ]
  },
  {
   "cell_type": "code",
   "execution_count": 67,
   "id": "tropical-married",
   "metadata": {},
   "outputs": [
    {
     "name": "stdout",
     "output_type": "stream",
     "text": [
      "2015 total customers:  231294 \n",
      "2016 existing customers: 59584 \n",
      "2017 existing customers 20959\n"
     ]
    }
   ],
   "source": [
    "#number of existing customers - number existing customers from previous year\n",
    "print(\"2015 total customers: \",df_2015.shape[0],\"\\n2016 existing customers:\",df_16_15.shape[0],\"\\n2017 existing customers\",df_17_16.shape[0])"
   ]
  },
  {
   "cell_type": "code",
   "execution_count": 72,
   "id": "governing-forge",
   "metadata": {},
   "outputs": [
    {
     "name": "stdout",
     "output_type": "stream",
     "text": [
      "Customers lost in 2016: -171710 \n",
      "Customers lost in 2017: -38625\n"
     ]
    }
   ],
   "source": [
    "cusLost_16 = 59584-231294\n",
    "cusLost_17 = 20959-59584\n",
    "print('Customers lost in 2016:',cusLost_16, \"\\nCustomers lost in 2017:\",cusLost_17 )"
   ]
  },
  {
   "cell_type": "markdown",
   "id": "pleasant-vault",
   "metadata": {},
   "source": [
    "## Revenue lost from attrition\n",
    "Attrition = the revenue lost from losing customers."
   ]
  },
  {
   "cell_type": "code",
   "execution_count": 73,
   "id": "floral-planning",
   "metadata": {},
   "outputs": [
    {
     "name": "stdout",
     "output_type": "stream",
     "text": [
      "Revenue lost from attrition in 2016: -21513078.35451128 \n",
      "Revenue lost from attrition in 2016: -4829550.746994131\n"
     ]
    }
   ],
   "source": [
    "#calculate average revenue of existing customers\n",
    "#multiply by customers lost\n",
    "\n",
    "avg_16_15 = df_16_15['net_revenue_y'].mean()\n",
    "avg_17_16 = df_17_16['net_revenue_y'].mean()\n",
    "\n",
    "print(\"Revenue lost from attrition in 2016:\", avg_16_15*cusLost_16,\n",
    "     \"\\nRevenue lost from attrition in 2016:\", avg_17_16*cusLost_17)"
   ]
  }
 ],
 "metadata": {
  "kernelspec": {
   "display_name": "Python 3",
   "language": "python",
   "name": "python3"
  },
  "language_info": {
   "codemirror_mode": {
    "name": "ipython",
    "version": 3
   },
   "file_extension": ".py",
   "mimetype": "text/x-python",
   "name": "python",
   "nbconvert_exporter": "python",
   "pygments_lexer": "ipython3",
   "version": "3.9.2"
  }
 },
 "nbformat": 4,
 "nbformat_minor": 5
}
